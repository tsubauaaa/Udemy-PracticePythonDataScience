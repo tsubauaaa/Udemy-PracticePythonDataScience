{
 "cells": [
  {
   "cell_type": "code",
   "execution_count": 3,
   "metadata": {},
   "outputs": [],
   "source": [
    "import numpy as np\n",
    "from numpy.random import randn\n",
    "import pandas as pd\n",
    "from scipy import stats\n",
    "import matplotlib as mpl\n",
    "import matplotlib.pyplot as plt\n",
    "import seaborn as sns\n",
    "%matplotlib inline"
   ]
  },
  {
   "cell_type": "code",
   "execution_count": 4,
   "metadata": {},
   "outputs": [
    {
     "data": {
      "image/png": "[encoded data removed]",
      "text/plain": [
       "<Figure size 432x288 with 1 Axes>"
      ]
     },
     "metadata": {
      "needs_background": "light"
     },
     "output_type": "display_data"
    }
   ],
   "source": [
    "# 確率的質量関数を作る\n",
    "\n",
    "# サイコロの取りうる値\n",
    "roll_options = [1,2,3,4,5,6]\n",
    "\n",
    "# 確率の総和\n",
    "tprob = 1\n",
    "\n",
    "# 公正なサイコロだったらどの目も同じ確率で出る\n",
    "prob_roll = tprob / len(roll_options)\n",
    "\n",
    "unit_plot = plt.bar(roll_options,[prob_roll]*6)"
   ]
  },
  {
   "cell_type": "code",
   "execution_count": 5,
   "metadata": {},
   "outputs": [
    {
     "name": "stdout",
     "output_type": "stream",
     "text": [
      "平均=3.5,分散=2.9166666666666665\n"
     ]
    }
   ],
   "source": [
    "from scipy.stats import randint\n",
    "\n",
    "# 最大の手前が7\n",
    "low,high = 1,7\n",
    "\n",
    "# 離散一様分布の平均と分散を計算\n",
    "mean,var = randint.stats(low,high)\n",
    "print(f'平均={mean},分散={var}')"
   ]
  },
  {
   "cell_type": "code",
   "execution_count": 7,
   "metadata": {},
   "outputs": [
    {
     "data": {
      "text/plain": [
       "<BarContainer object of 6 artists>"
      ]
     },
     "execution_count": 7,
     "metadata": {},
     "output_type": "execute_result"
    },
    {
     "data": {
      "image/png": "[encoded data removed]",
      "text/plain": [
       "<Figure size 432x288 with 1 Axes>"
      ]
     },
     "metadata": {
      "needs_background": "light"
     },
     "output_type": "display_data"
    }
   ],
   "source": [
    "# 確率質量関数\n",
    "plt.bar(roll_options,randint.pmf(roll_options,low,high))"
   ]
  },
  {
   "cell_type": "markdown",
   "metadata": {},
   "source": [
    "### German Tank Problem\n",
    "離散一様分布の応用例として第二次世界大戦において、イギリスがドイツ軍の洗車の生産台数を推定したGerman Tank Problemが有名\n",
    "\n",
    "5台の洗車を捕らえ、それぞれのシリアル番号が3,7,11,16とする。最小分散不偏推定量を求める"
   ]
  },
  {
   "cell_type": "code",
   "execution_count": 8,
   "metadata": {},
   "outputs": [
    {
     "data": {
      "text/plain": [
       "18.2"
      ]
     },
     "execution_count": 8,
     "metadata": {},
     "output_type": "execute_result"
    }
   ],
   "source": [
    "tank_estimate = 16 + (16/5) - 1\n",
    "tank_estimate"
   ]
  },
  {
   "cell_type": "code",
   "execution_count": 9,
   "metadata": {},
   "outputs": [
    {
     "data": {
      "text/plain": [
       "20.0"
      ]
     },
     "execution_count": 9,
     "metadata": {},
     "output_type": "execute_result"
    }
   ],
   "source": [
    "m=16\n",
    "k=5\n",
    "tank_b_estimate = (m-1)*((k-1)/(k-2))\n",
    "tank_b_estimate"
   ]
  },
  {
   "cell_type": "code",
   "execution_count": null,
   "metadata": {},
   "outputs": [],
   "source": []
  }
 ],
 "metadata": {
  "kernelspec": {
   "display_name": "Python 3",
   "language": "python",
   "name": "python3"
  },
  "language_info": {
   "codemirror_mode": {
    "name": "ipython",
    "version": 3
   },
   "file_extension": ".py",
   "mimetype": "text/x-python",
   "name": "python",
   "nbconvert_exporter": "python",
   "pygments_lexer": "ipython3",
   "version": "3.7.3"
  }
 },
 "nbformat": 4,
 "nbformat_minor": 2
}
