{
 "cells": [
  {
   "cell_type": "markdown",
   "metadata": {},
   "source": [
    "ニューヨーク市の平均的なタクシーの乗車時間は22分くらいである。調査の結果、この乗車時間が、19分から27分の間の連続的な一様分布に従うことが分かったとする。タクシー乗車時間の確率密度関数を求めてみる。"
   ]
  },
  {
   "cell_type": "code",
   "execution_count": 1,
   "metadata": {},
   "outputs": [
    {
     "name": "stdout",
     "output_type": "stream",
     "text": [
      "確率密度関数は0.125です\n"
     ]
    }
   ],
   "source": [
    "# 乗車時間の下限\n",
    "a = 19\n",
    "\n",
    "# 上限\n",
    "b = 27\n",
    "\n",
    "# 連続一様分布の確率密度\n",
    "fx = 1.0/(b-a)\n",
    "\n",
    "print(f'確率密度関数は{fx}です')"
   ]
  },
  {
   "cell_type": "code",
   "execution_count": 3,
   "metadata": {},
   "outputs": [
    {
     "name": "stdout",
     "output_type": "stream",
     "text": [
      "分散は5.333333333333333です\n"
     ]
    }
   ],
   "source": [
    "# 分散\n",
    "var = ((b-a)**2)/12\n",
    "\n",
    "print(f'分散は{var}です')"
   ]
  },
  {
   "cell_type": "markdown",
   "metadata": {},
   "source": [
    "乗車時間が少なくとも25分続く確率"
   ]
  },
  {
   "cell_type": "code",
   "execution_count": 5,
   "metadata": {},
   "outputs": [
    {
     "name": "stdout",
     "output_type": "stream",
     "text": [
      "乗車時間が少なくとも25分かかる確率は25.0%\n"
     ]
    }
   ],
   "source": [
    "# 全体から乗車時間が25分よりも短い場合を引けば良い\n",
    "\n",
    "# 乗車時間が27分までに収まる確率は全体の1\n",
    "# 25分までに収まる確率は\n",
    "f25 = (25-19)/(b-a)\n",
    "\n",
    "ans = 1 - f25\n",
    "\n",
    "print(f'乗車時間が少なくとも25分かかる確率は{100*ans}%')"
   ]
  },
  {
   "cell_type": "code",
   "execution_count": 7,
   "metadata": {},
   "outputs": [
    {
     "data": {
      "text/plain": [
       "[<matplotlib.lines.Line2D at 0x1a20f9a278>]"
      ]
     },
     "execution_count": 7,
     "metadata": {},
     "output_type": "execute_result"
    },
    {
     "data": {
      "image/png": "[encoded data removed]",
      "text/plain": [
       "<Figure size 432x288 with 1 Axes>"
      ]
     },
     "metadata": {
      "needs_background": "light"
     },
     "output_type": "display_data"
    }
   ],
   "source": [
    "from scipy.stats import uniform\n",
    "import numpy as np\n",
    "import matplotlib.pyplot as plt\n",
    "%matplotlib inline\n",
    "\n",
    "# 最大と最小\n",
    "A=0\n",
    "B=5\n",
    "\n",
    "# AからBまで100ポイントを作る\n",
    "x = np.linspace(A,B,100)\n",
    "\n",
    "# 連続一様分布\n",
    "rv = uniform(loc=A,scale=B)\n",
    "\n",
    "# 確率密度函数と累積分布関数を描く\n",
    "plt.plot(x,rv.pdf(x))\n",
    "plt.plot(x,rv.cdf(x))"
   ]
  },
  {
   "cell_type": "code",
   "execution_count": null,
   "metadata": {},
   "outputs": [],
   "source": []
  }
 ],
 "metadata": {
  "kernelspec": {
   "display_name": "Python 3",
   "language": "python",
   "name": "python3"
  },
  "language_info": {
   "codemirror_mode": {
    "name": "ipython",
    "version": 3
   },
   "file_extension": ".py",
   "mimetype": "text/x-python",
   "name": "python",
   "nbconvert_exporter": "python",
   "pygments_lexer": "ipython3",
   "version": "3.7.3"
  }
 },
 "nbformat": 4,
 "nbformat_minor": 2
}
